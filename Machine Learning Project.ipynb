{
 "cells": [
  {
   "cell_type": "markdown",
   "id": "e9b10fa7",
   "metadata": {
    "id": "e9b10fa7"
   },
   "source": [
    "### Import Libraries"
   ]
  },
  {
   "cell_type": "code",
   "execution_count": 1,
   "id": "f63b4f66",
   "metadata": {
    "executionInfo": {
     "elapsed": 6252,
     "status": "ok",
     "timestamp": 1686031606614,
     "user": {
      "displayName": "Jason",
      "userId": "13318429149571986193"
     },
     "user_tz": -420
    },
    "id": "f63b4f66"
   },
   "outputs": [],
   "source": [
    "import pandas as pd\n",
    "import numpy as np\n",
    "import yfinance as yf\n",
    "from datetime import datetime\n",
    "import matplotlib.pyplot as plt\n",
    "import warnings\n",
    "warnings.filterwarnings(\"ignore\")\n",
    "from tensorflow.keras import metrics"
   ]
  },
  {
   "cell_type": "markdown",
   "id": "42484168",
   "metadata": {
    "id": "42484168"
   },
   "source": [
    "### Reading data"
   ]
  },
  {
   "cell_type": "code",
   "execution_count": 2,
   "id": "1aee9e8e",
   "metadata": {
    "colab": {
     "base_uri": "https://localhost:8080/",
     "height": 255
    },
    "executionInfo": {
     "elapsed": 830,
     "status": "ok",
     "timestamp": 1686031607442,
     "user": {
      "displayName": "Jason",
      "userId": "13318429149571986193"
     },
     "user_tz": -420
    },
    "id": "1aee9e8e",
    "outputId": "b1d5f63b-fd93-4ff0-b870-d614a418ac25"
   },
   "outputs": [
    {
     "name": "stdout",
     "output_type": "stream",
     "text": [
      "\r",
      "[*********************100%***********************]  1 of 1 completed\n"
     ]
    },
    {
     "data": {
      "text/html": [
       "\n",
       "  <div id=\"df-2bd5fb54-d3c3-4a5c-ac4e-0794c413c3ba\">\n",
       "    <div class=\"colab-df-container\">\n",
       "      <div>\n",
       "<style scoped>\n",
       "    .dataframe tbody tr th:only-of-type {\n",
       "        vertical-align: middle;\n",
       "    }\n",
       "\n",
       "    .dataframe tbody tr th {\n",
       "        vertical-align: top;\n",
       "    }\n",
       "\n",
       "    .dataframe thead th {\n",
       "        text-align: right;\n",
       "    }\n",
       "</style>\n",
       "<table border=\"1\" class=\"dataframe\">\n",
       "  <thead>\n",
       "    <tr style=\"text-align: right;\">\n",
       "      <th></th>\n",
       "      <th>Open</th>\n",
       "      <th>High</th>\n",
       "      <th>Low</th>\n",
       "      <th>Close</th>\n",
       "      <th>Adj Close</th>\n",
       "      <th>Volume</th>\n",
       "    </tr>\n",
       "    <tr>\n",
       "      <th>Date</th>\n",
       "      <th></th>\n",
       "      <th></th>\n",
       "      <th></th>\n",
       "      <th></th>\n",
       "      <th></th>\n",
       "      <th></th>\n",
       "    </tr>\n",
       "  </thead>\n",
       "  <tbody>\n",
       "    <tr>\n",
       "      <th>2004-06-08</th>\n",
       "      <td>175.0</td>\n",
       "      <td>180.0</td>\n",
       "      <td>175.0</td>\n",
       "      <td>177.5</td>\n",
       "      <td>106.160179</td>\n",
       "      <td>499150000</td>\n",
       "    </tr>\n",
       "    <tr>\n",
       "      <th>2004-06-09</th>\n",
       "      <td>177.5</td>\n",
       "      <td>182.5</td>\n",
       "      <td>175.0</td>\n",
       "      <td>180.0</td>\n",
       "      <td>107.655411</td>\n",
       "      <td>294290000</td>\n",
       "    </tr>\n",
       "    <tr>\n",
       "      <th>2004-06-10</th>\n",
       "      <td>180.0</td>\n",
       "      <td>180.0</td>\n",
       "      <td>177.5</td>\n",
       "      <td>180.0</td>\n",
       "      <td>107.655411</td>\n",
       "      <td>165590000</td>\n",
       "    </tr>\n",
       "    <tr>\n",
       "      <th>2004-06-11</th>\n",
       "      <td>177.5</td>\n",
       "      <td>180.0</td>\n",
       "      <td>177.5</td>\n",
       "      <td>180.0</td>\n",
       "      <td>107.655411</td>\n",
       "      <td>135830000</td>\n",
       "    </tr>\n",
       "    <tr>\n",
       "      <th>2004-06-14</th>\n",
       "      <td>180.0</td>\n",
       "      <td>180.0</td>\n",
       "      <td>175.0</td>\n",
       "      <td>177.5</td>\n",
       "      <td>106.160179</td>\n",
       "      <td>158540000</td>\n",
       "    </tr>\n",
       "  </tbody>\n",
       "</table>\n",
       "</div>\n",
       "      <button class=\"colab-df-convert\" onclick=\"convertToInteractive('df-2bd5fb54-d3c3-4a5c-ac4e-0794c413c3ba')\"\n",
       "              title=\"Convert this dataframe to an interactive table.\"\n",
       "              style=\"display:none;\">\n",
       "        \n",
       "  <svg xmlns=\"http://www.w3.org/2000/svg\" height=\"24px\"viewBox=\"0 0 24 24\"\n",
       "       width=\"24px\">\n",
       "    <path d=\"M0 0h24v24H0V0z\" fill=\"none\"/>\n",
       "    <path d=\"M18.56 5.44l.94 2.06.94-2.06 2.06-.94-2.06-.94-.94-2.06-.94 2.06-2.06.94zm-11 1L8.5 8.5l.94-2.06 2.06-.94-2.06-.94L8.5 2.5l-.94 2.06-2.06.94zm10 10l.94 2.06.94-2.06 2.06-.94-2.06-.94-.94-2.06-.94 2.06-2.06.94z\"/><path d=\"M17.41 7.96l-1.37-1.37c-.4-.4-.92-.59-1.43-.59-.52 0-1.04.2-1.43.59L10.3 9.45l-7.72 7.72c-.78.78-.78 2.05 0 2.83L4 21.41c.39.39.9.59 1.41.59.51 0 1.02-.2 1.41-.59l7.78-7.78 2.81-2.81c.8-.78.8-2.07 0-2.86zM5.41 20L4 18.59l7.72-7.72 1.47 1.35L5.41 20z\"/>\n",
       "  </svg>\n",
       "      </button>\n",
       "      \n",
       "  <style>\n",
       "    .colab-df-container {\n",
       "      display:flex;\n",
       "      flex-wrap:wrap;\n",
       "      gap: 12px;\n",
       "    }\n",
       "\n",
       "    .colab-df-convert {\n",
       "      background-color: #E8F0FE;\n",
       "      border: none;\n",
       "      border-radius: 50%;\n",
       "      cursor: pointer;\n",
       "      display: none;\n",
       "      fill: #1967D2;\n",
       "      height: 32px;\n",
       "      padding: 0 0 0 0;\n",
       "      width: 32px;\n",
       "    }\n",
       "\n",
       "    .colab-df-convert:hover {\n",
       "      background-color: #E2EBFA;\n",
       "      box-shadow: 0px 1px 2px rgba(60, 64, 67, 0.3), 0px 1px 3px 1px rgba(60, 64, 67, 0.15);\n",
       "      fill: #174EA6;\n",
       "    }\n",
       "\n",
       "    [theme=dark] .colab-df-convert {\n",
       "      background-color: #3B4455;\n",
       "      fill: #D2E3FC;\n",
       "    }\n",
       "\n",
       "    [theme=dark] .colab-df-convert:hover {\n",
       "      background-color: #434B5C;\n",
       "      box-shadow: 0px 1px 3px 1px rgba(0, 0, 0, 0.15);\n",
       "      filter: drop-shadow(0px 1px 2px rgba(0, 0, 0, 0.3));\n",
       "      fill: #FFFFFF;\n",
       "    }\n",
       "  </style>\n",
       "\n",
       "      <script>\n",
       "        const buttonEl =\n",
       "          document.querySelector('#df-2bd5fb54-d3c3-4a5c-ac4e-0794c413c3ba button.colab-df-convert');\n",
       "        buttonEl.style.display =\n",
       "          google.colab.kernel.accessAllowed ? 'block' : 'none';\n",
       "\n",
       "        async function convertToInteractive(key) {\n",
       "          const element = document.querySelector('#df-2bd5fb54-d3c3-4a5c-ac4e-0794c413c3ba');\n",
       "          const dataTable =\n",
       "            await google.colab.kernel.invokeFunction('convertToInteractive',\n",
       "                                                     [key], {});\n",
       "          if (!dataTable) return;\n",
       "\n",
       "          const docLinkHtml = 'Like what you see? Visit the ' +\n",
       "            '<a target=\"_blank\" href=https://colab.research.google.com/notebooks/data_table.ipynb>data table notebook</a>'\n",
       "            + ' to learn more about interactive tables.';\n",
       "          element.innerHTML = '';\n",
       "          dataTable['output_type'] = 'display_data';\n",
       "          await google.colab.output.renderOutput(dataTable, element);\n",
       "          const docLink = document.createElement('div');\n",
       "          docLink.innerHTML = docLinkHtml;\n",
       "          element.appendChild(docLink);\n",
       "        }\n",
       "      </script>\n",
       "    </div>\n",
       "  </div>\n",
       "  "
      ],
      "text/plain": [
       "             Open   High    Low  Close   Adj Close     Volume\n",
       "Date                                                         \n",
       "2004-06-08  175.0  180.0  175.0  177.5  106.160179  499150000\n",
       "2004-06-09  177.5  182.5  175.0  180.0  107.655411  294290000\n",
       "2004-06-10  180.0  180.0  177.5  180.0  107.655411  165590000\n",
       "2004-06-11  177.5  180.0  177.5  180.0  107.655411  135830000\n",
       "2004-06-14  180.0  180.0  175.0  177.5  106.160179  158540000"
      ]
     },
     "execution_count": 2,
     "metadata": {},
     "output_type": "execute_result"
    }
   ],
   "source": [
    "bbca = pd.DataFrame(yf.download('BBCA.JK', end='2023-06-01'))\n",
    "bbca.head(5)"
   ]
  },
  {
   "cell_type": "code",
   "execution_count": 3,
   "id": "842af3c9",
   "metadata": {
    "colab": {
     "base_uri": "https://localhost:8080/",
     "height": 238
    },
    "executionInfo": {
     "elapsed": 9,
     "status": "ok",
     "timestamp": 1686031607442,
     "user": {
      "displayName": "Jason",
      "userId": "13318429149571986193"
     },
     "user_tz": -420
    },
    "id": "842af3c9",
    "outputId": "8104817a-1171-44e9-df1c-390d905f3e84"
   },
   "outputs": [
    {
     "data": {
      "text/html": [
       "\n",
       "  <div id=\"df-230f4a34-7f70-4f8f-b798-d3a30c99498b\">\n",
       "    <div class=\"colab-df-container\">\n",
       "      <div>\n",
       "<style scoped>\n",
       "    .dataframe tbody tr th:only-of-type {\n",
       "        vertical-align: middle;\n",
       "    }\n",
       "\n",
       "    .dataframe tbody tr th {\n",
       "        vertical-align: top;\n",
       "    }\n",
       "\n",
       "    .dataframe thead th {\n",
       "        text-align: right;\n",
       "    }\n",
       "</style>\n",
       "<table border=\"1\" class=\"dataframe\">\n",
       "  <thead>\n",
       "    <tr style=\"text-align: right;\">\n",
       "      <th></th>\n",
       "      <th>Open</th>\n",
       "      <th>High</th>\n",
       "      <th>Low</th>\n",
       "      <th>Close</th>\n",
       "      <th>Adj Close</th>\n",
       "      <th>Volume</th>\n",
       "    </tr>\n",
       "    <tr>\n",
       "      <th>Date</th>\n",
       "      <th></th>\n",
       "      <th></th>\n",
       "      <th></th>\n",
       "      <th></th>\n",
       "      <th></th>\n",
       "      <th></th>\n",
       "    </tr>\n",
       "  </thead>\n",
       "  <tbody>\n",
       "    <tr>\n",
       "      <th>2023-05-25</th>\n",
       "      <td>9100.0</td>\n",
       "      <td>9150.0</td>\n",
       "      <td>9050.0</td>\n",
       "      <td>9050.0</td>\n",
       "      <td>9050.0</td>\n",
       "      <td>76325700</td>\n",
       "    </tr>\n",
       "    <tr>\n",
       "      <th>2023-05-26</th>\n",
       "      <td>9175.0</td>\n",
       "      <td>9200.0</td>\n",
       "      <td>9100.0</td>\n",
       "      <td>9150.0</td>\n",
       "      <td>9150.0</td>\n",
       "      <td>55675900</td>\n",
       "    </tr>\n",
       "    <tr>\n",
       "      <th>2023-05-29</th>\n",
       "      <td>9250.0</td>\n",
       "      <td>9250.0</td>\n",
       "      <td>9075.0</td>\n",
       "      <td>9150.0</td>\n",
       "      <td>9150.0</td>\n",
       "      <td>79148200</td>\n",
       "    </tr>\n",
       "    <tr>\n",
       "      <th>2023-05-30</th>\n",
       "      <td>9200.0</td>\n",
       "      <td>9325.0</td>\n",
       "      <td>9150.0</td>\n",
       "      <td>9250.0</td>\n",
       "      <td>9250.0</td>\n",
       "      <td>97189500</td>\n",
       "    </tr>\n",
       "    <tr>\n",
       "      <th>2023-05-31</th>\n",
       "      <td>9300.0</td>\n",
       "      <td>9325.0</td>\n",
       "      <td>9050.0</td>\n",
       "      <td>9050.0</td>\n",
       "      <td>9050.0</td>\n",
       "      <td>722827900</td>\n",
       "    </tr>\n",
       "  </tbody>\n",
       "</table>\n",
       "</div>\n",
       "      <button class=\"colab-df-convert\" onclick=\"convertToInteractive('df-230f4a34-7f70-4f8f-b798-d3a30c99498b')\"\n",
       "              title=\"Convert this dataframe to an interactive table.\"\n",
       "              style=\"display:none;\">\n",
       "        \n",
       "  <svg xmlns=\"http://www.w3.org/2000/svg\" height=\"24px\"viewBox=\"0 0 24 24\"\n",
       "       width=\"24px\">\n",
       "    <path d=\"M0 0h24v24H0V0z\" fill=\"none\"/>\n",
       "    <path d=\"M18.56 5.44l.94 2.06.94-2.06 2.06-.94-2.06-.94-.94-2.06-.94 2.06-2.06.94zm-11 1L8.5 8.5l.94-2.06 2.06-.94-2.06-.94L8.5 2.5l-.94 2.06-2.06.94zm10 10l.94 2.06.94-2.06 2.06-.94-2.06-.94-.94-2.06-.94 2.06-2.06.94z\"/><path d=\"M17.41 7.96l-1.37-1.37c-.4-.4-.92-.59-1.43-.59-.52 0-1.04.2-1.43.59L10.3 9.45l-7.72 7.72c-.78.78-.78 2.05 0 2.83L4 21.41c.39.39.9.59 1.41.59.51 0 1.02-.2 1.41-.59l7.78-7.78 2.81-2.81c.8-.78.8-2.07 0-2.86zM5.41 20L4 18.59l7.72-7.72 1.47 1.35L5.41 20z\"/>\n",
       "  </svg>\n",
       "      </button>\n",
       "      \n",
       "  <style>\n",
       "    .colab-df-container {\n",
       "      display:flex;\n",
       "      flex-wrap:wrap;\n",
       "      gap: 12px;\n",
       "    }\n",
       "\n",
       "    .colab-df-convert {\n",
       "      background-color: #E8F0FE;\n",
       "      border: none;\n",
       "      border-radius: 50%;\n",
       "      cursor: pointer;\n",
       "      display: none;\n",
       "      fill: #1967D2;\n",
       "      height: 32px;\n",
       "      padding: 0 0 0 0;\n",
       "      width: 32px;\n",
       "    }\n",
       "\n",
       "    .colab-df-convert:hover {\n",
       "      background-color: #E2EBFA;\n",
       "      box-shadow: 0px 1px 2px rgba(60, 64, 67, 0.3), 0px 1px 3px 1px rgba(60, 64, 67, 0.15);\n",
       "      fill: #174EA6;\n",
       "    }\n",
       "\n",
       "    [theme=dark] .colab-df-convert {\n",
       "      background-color: #3B4455;\n",
       "      fill: #D2E3FC;\n",
       "    }\n",
       "\n",
       "    [theme=dark] .colab-df-convert:hover {\n",
       "      background-color: #434B5C;\n",
       "      box-shadow: 0px 1px 3px 1px rgba(0, 0, 0, 0.15);\n",
       "      filter: drop-shadow(0px 1px 2px rgba(0, 0, 0, 0.3));\n",
       "      fill: #FFFFFF;\n",
       "    }\n",
       "  </style>\n",
       "\n",
       "      <script>\n",
       "        const buttonEl =\n",
       "          document.querySelector('#df-230f4a34-7f70-4f8f-b798-d3a30c99498b button.colab-df-convert');\n",
       "        buttonEl.style.display =\n",
       "          google.colab.kernel.accessAllowed ? 'block' : 'none';\n",
       "\n",
       "        async function convertToInteractive(key) {\n",
       "          const element = document.querySelector('#df-230f4a34-7f70-4f8f-b798-d3a30c99498b');\n",
       "          const dataTable =\n",
       "            await google.colab.kernel.invokeFunction('convertToInteractive',\n",
       "                                                     [key], {});\n",
       "          if (!dataTable) return;\n",
       "\n",
       "          const docLinkHtml = 'Like what you see? Visit the ' +\n",
       "            '<a target=\"_blank\" href=https://colab.research.google.com/notebooks/data_table.ipynb>data table notebook</a>'\n",
       "            + ' to learn more about interactive tables.';\n",
       "          element.innerHTML = '';\n",
       "          dataTable['output_type'] = 'display_data';\n",
       "          await google.colab.output.renderOutput(dataTable, element);\n",
       "          const docLink = document.createElement('div');\n",
       "          docLink.innerHTML = docLinkHtml;\n",
       "          element.appendChild(docLink);\n",
       "        }\n",
       "      </script>\n",
       "    </div>\n",
       "  </div>\n",
       "  "
      ],
      "text/plain": [
       "              Open    High     Low   Close  Adj Close     Volume\n",
       "Date                                                            \n",
       "2023-05-25  9100.0  9150.0  9050.0  9050.0     9050.0   76325700\n",
       "2023-05-26  9175.0  9200.0  9100.0  9150.0     9150.0   55675900\n",
       "2023-05-29  9250.0  9250.0  9075.0  9150.0     9150.0   79148200\n",
       "2023-05-30  9200.0  9325.0  9150.0  9250.0     9250.0   97189500\n",
       "2023-05-31  9300.0  9325.0  9050.0  9050.0     9050.0  722827900"
      ]
     },
     "execution_count": 3,
     "metadata": {},
     "output_type": "execute_result"
    }
   ],
   "source": [
    "bbca.tail(5)"
   ]
  },
  {
   "cell_type": "code",
   "execution_count": 4,
   "id": "dd11f28c",
   "metadata": {
    "colab": {
     "base_uri": "https://localhost:8080/"
    },
    "executionInfo": {
     "elapsed": 8,
     "status": "ok",
     "timestamp": 1686031607442,
     "user": {
      "displayName": "Jason",
      "userId": "13318429149571986193"
     },
     "user_tz": -420
    },
    "id": "dd11f28c",
    "outputId": "81a6cc60-2edb-4abc-ad70-4111f7736e37"
   },
   "outputs": [
    {
     "name": "stdout",
     "output_type": "stream",
     "text": [
      "<class 'pandas.core.frame.DataFrame'>\n",
      "DatetimeIndex: 4707 entries, 2004-06-08 to 2023-05-31\n",
      "Data columns (total 6 columns):\n",
      " #   Column     Non-Null Count  Dtype  \n",
      "---  ------     --------------  -----  \n",
      " 0   Open       4707 non-null   float64\n",
      " 1   High       4707 non-null   float64\n",
      " 2   Low        4707 non-null   float64\n",
      " 3   Close      4707 non-null   float64\n",
      " 4   Adj Close  4707 non-null   float64\n",
      " 5   Volume     4707 non-null   int64  \n",
      "dtypes: float64(5), int64(1)\n",
      "memory usage: 257.4 KB\n"
     ]
    }
   ],
   "source": [
    "bbca.info()"
   ]
  },
  {
   "cell_type": "code",
   "execution_count": 5,
   "id": "55ee56c5",
   "metadata": {
    "colab": {
     "base_uri": "https://localhost:8080/"
    },
    "executionInfo": {
     "elapsed": 6,
     "status": "ok",
     "timestamp": 1686031607442,
     "user": {
      "displayName": "Jason",
      "userId": "13318429149571986193"
     },
     "user_tz": -420
    },
    "id": "55ee56c5",
    "outputId": "eaf33764-2bf5-43eb-da9e-19ebf0dff90d"
   },
   "outputs": [
    {
     "data": {
      "text/plain": [
       "Close    0\n",
       "dtype: int64"
      ]
     },
     "execution_count": 5,
     "metadata": {},
     "output_type": "execute_result"
    }
   ],
   "source": [
    "bbca[['Close']].isna().sum()"
   ]
  },
  {
   "cell_type": "code",
   "execution_count": 6,
   "id": "79b56991",
   "metadata": {
    "executionInfo": {
     "elapsed": 6,
     "status": "ok",
     "timestamp": 1686031607443,
     "user": {
      "displayName": "Jason",
      "userId": "13318429149571986193"
     },
     "user_tz": -420
    },
    "id": "79b56991"
   },
   "outputs": [],
   "source": [
    "bbca['Date'] = bbca.index\n",
    "bbca['Date'] = pd.to_datetime(bbca['Date'])"
   ]
  },
  {
   "cell_type": "markdown",
   "id": "4a5d69c1",
   "metadata": {
    "id": "4a5d69c1"
   },
   "source": [
    "### Data Preparation"
   ]
  },
  {
   "cell_type": "code",
   "execution_count": 7,
   "id": "0957d5f5",
   "metadata": {
    "colab": {
     "base_uri": "https://localhost:8080/"
    },
    "executionInfo": {
     "elapsed": 2039,
     "status": "ok",
     "timestamp": 1686031609477,
     "user": {
      "displayName": "Jason",
      "userId": "13318429149571986193"
     },
     "user_tz": -420
    },
    "id": "0957d5f5",
    "outputId": "92a6940e-59be-4d36-e573-1a650c4ca682"
   },
   "outputs": [
    {
     "name": "stdout",
     "output_type": "stream",
     "text": [
      "Print the normalized data :\n"
     ]
    },
    {
     "data": {
      "text/plain": [
       "array([[0.00000000e+00],\n",
       "       [2.74047684e-04],\n",
       "       [2.74047684e-04],\n",
       "       ...,\n",
       "       [9.83557139e-01],\n",
       "       [9.94519046e-01],\n",
       "       [9.72595232e-01]])"
      ]
     },
     "execution_count": 7,
     "metadata": {},
     "output_type": "execute_result"
    }
   ],
   "source": [
    "from sklearn.preprocessing import MinMaxScaler\n",
    "\n",
    "close = bbca[['Close']]\n",
    "\n",
    "minmax = MinMaxScaler(feature_range=(0,1))\n",
    "normalized = minmax.fit_transform(close.values)\n",
    "\n",
    "print(\"Print the normalized data :\")\n",
    "normalized"
   ]
  },
  {
   "cell_type": "code",
   "execution_count": 8,
   "id": "d0cd6bd5",
   "metadata": {
    "colab": {
     "base_uri": "https://localhost:8080/"
    },
    "executionInfo": {
     "elapsed": 14,
     "status": "ok",
     "timestamp": 1686031609477,
     "user": {
      "displayName": "Jason",
      "userId": "13318429149571986193"
     },
     "user_tz": -420
    },
    "id": "d0cd6bd5",
    "outputId": "9acdb39d-b61e-4c51-954f-70346aac7fac"
   },
   "outputs": [
    {
     "name": "stdout",
     "output_type": "stream",
     "text": [
      "The length of training data is 4590 datas\n",
      "The length of testing  data is 117 datas\n"
     ]
    }
   ],
   "source": [
    "testing_len = len(bbca.last('180D'))\n",
    "training_len = len(bbca) - testing_len\n",
    "\n",
    "print(\"The length of training data is {} datas\".format(training_len))\n",
    "print(\"The length of testing  data is {} datas\".format(testing_len))"
   ]
  },
  {
   "cell_type": "code",
   "execution_count": 9,
   "id": "34136593",
   "metadata": {
    "executionInfo": {
     "elapsed": 11,
     "status": "ok",
     "timestamp": 1686031609477,
     "user": {
      "displayName": "Jason",
      "userId": "13318429149571986193"
     },
     "user_tz": -420
    },
    "id": "34136593"
   },
   "outputs": [],
   "source": [
    "train = normalized[0:training_len, :]\n",
    "\n",
    "x_train = []\n",
    "y_train = []\n",
    "\n",
    "for i in range(60, len(train)):\n",
    "    x_train.append(train[i-60:i, 0])\n",
    "    y_train.append(train[i, 0])\n",
    "    \n",
    "x_train, y_train = np.array(x_train), np.array(y_train)\n",
    "x_train = np.reshape(x_train, (x_train.shape[0], x_train.shape[1], 1))"
   ]
  },
  {
   "cell_type": "code",
   "execution_count": 10,
   "id": "0d5eb326",
   "metadata": {
    "colab": {
     "base_uri": "https://localhost:8080/"
    },
    "executionInfo": {
     "elapsed": 10,
     "status": "ok",
     "timestamp": 1686031609477,
     "user": {
      "displayName": "Jason",
      "userId": "13318429149571986193"
     },
     "user_tz": -420
    },
    "id": "0d5eb326",
    "outputId": "0d572031-5a11-4958-e1c1-43b00671bcad",
    "scrolled": true
   },
   "outputs": [
    {
     "name": "stdout",
     "output_type": "stream",
     "text": [
      "Print the 1st x_train and y_train data:\n",
      "[[0.        ]\n",
      " [0.00027405]\n",
      " [0.00027405]\n",
      " [0.00027405]\n",
      " [0.        ]\n",
      " [0.0005481 ]\n",
      " [0.00027405]\n",
      " [0.        ]\n",
      " [0.        ]\n",
      " [0.        ]\n",
      " [0.        ]\n",
      " [0.00027405]\n",
      " [0.00027405]\n",
      " [0.0005481 ]\n",
      " [0.0005481 ]\n",
      " [0.00082214]\n",
      " [0.00109619]\n",
      " [0.        ]\n",
      " [0.00027405]\n",
      " [0.00027405]\n",
      " [0.00109619]\n",
      " [0.00109619]\n",
      " [0.00109619]\n",
      " [0.00137024]\n",
      " [0.00137024]\n",
      " [0.00164429]\n",
      " [0.00109619]\n",
      " [0.00109619]\n",
      " [0.00137024]\n",
      " [0.00137024]\n",
      " [0.00137024]\n",
      " [0.00137024]\n",
      " [0.00137024]\n",
      " [0.00137024]\n",
      " [0.00109619]\n",
      " [0.00109619]\n",
      " [0.00109619]\n",
      " [0.00109619]\n",
      " [0.00109619]\n",
      " [0.00082214]\n",
      " [0.00109619]\n",
      " [0.00137024]\n",
      " [0.00137024]\n",
      " [0.00109619]\n",
      " [0.0005481 ]\n",
      " [0.0005481 ]\n",
      " [0.00082214]\n",
      " [0.0005481 ]\n",
      " [0.0005481 ]\n",
      " [0.00027405]\n",
      " [0.00027405]\n",
      " [0.00082214]\n",
      " [0.00082214]\n",
      " [0.0005481 ]\n",
      " [0.0005481 ]\n",
      " [0.0005481 ]\n",
      " [0.00027405]\n",
      " [0.00027405]\n",
      " [0.0005481 ]\n",
      " [0.        ]]\n",
      "0.0002740476842970664\n"
     ]
    }
   ],
   "source": [
    "print(\"Print the 1st x_train and y_train data:\")\n",
    "print(x_train[0])\n",
    "print(y_train[0])"
   ]
  },
  {
   "cell_type": "code",
   "execution_count": 11,
   "id": "c3b864d6",
   "metadata": {
    "colab": {
     "base_uri": "https://localhost:8080/"
    },
    "executionInfo": {
     "elapsed": 10,
     "status": "ok",
     "timestamp": 1686031609478,
     "user": {
      "displayName": "Jason",
      "userId": "13318429149571986193"
     },
     "user_tz": -420
    },
    "id": "c3b864d6",
    "outputId": "8f7b5629-8b53-4b50-836b-7dc01eba581d"
   },
   "outputs": [
    {
     "name": "stdout",
     "output_type": "stream",
     "text": [
      "Jumlah data x_train adalah sebanyak 4530 datas\n",
      "Jumlah data y_train adalah sebanyak 4530 datas\n"
     ]
    }
   ],
   "source": [
    "print(\"Jumlah data x_train adalah sebanyak {} datas\".format(x_train.shape[0]))\n",
    "print(\"Jumlah data y_train adalah sebanyak {} datas\".format(y_train.shape[0]))"
   ]
  },
  {
   "cell_type": "code",
   "execution_count": 12,
   "id": "a2300674",
   "metadata": {
    "executionInfo": {
     "elapsed": 8,
     "status": "ok",
     "timestamp": 1686031609478,
     "user": {
      "displayName": "Jason",
      "userId": "13318429149571986193"
     },
     "user_tz": -420
    },
    "id": "a2300674"
   },
   "outputs": [],
   "source": [
    "test = normalized[training_len - 60: , :]\n",
    "\n",
    "x_test = []\n",
    "y_test = close[training_len:]\n",
    "for i in range(60, len(test)):\n",
    "    x_test.append(test[i-60:i, 0])\n",
    "    \n",
    "x_test = np.array(x_test)\n",
    "x_test = np.reshape(x_test, (x_test.shape[0], x_test.shape[1], 1 ))"
   ]
  },
  {
   "cell_type": "code",
   "execution_count": 13,
   "id": "f27f414e",
   "metadata": {
    "colab": {
     "base_uri": "https://localhost:8080/"
    },
    "executionInfo": {
     "elapsed": 8,
     "status": "ok",
     "timestamp": 1686031609478,
     "user": {
      "displayName": "Jason",
      "userId": "13318429149571986193"
     },
     "user_tz": -420
    },
    "id": "f27f414e",
    "outputId": "41279074-cbd4-4d18-fee3-25b0a6aa9f13"
   },
   "outputs": [
    {
     "name": "stdout",
     "output_type": "stream",
     "text": [
      "Print the 1st x_test and y_test data:\n",
      "[[0.89860236]\n",
      " [0.91504522]\n",
      " [0.91230474]\n",
      " [0.93970951]\n",
      " [0.90682379]\n",
      " [0.9287476 ]\n",
      " [0.91778569]\n",
      " [0.90956426]\n",
      " [0.90956426]\n",
      " [0.89860236]\n",
      " [0.90408331]\n",
      " [0.89038093]\n",
      " [0.8931214 ]\n",
      " [0.89860236]\n",
      " [0.91778569]\n",
      " [0.91230474]\n",
      " [0.91778569]\n",
      " [0.90682379]\n",
      " [0.90408331]\n",
      " [0.87941902]\n",
      " [0.89038093]\n",
      " [0.88489997]\n",
      " [0.8931214 ]\n",
      " [0.88764045]\n",
      " [0.88489997]\n",
      " [0.88489997]\n",
      " [0.89038093]\n",
      " [0.88764045]\n",
      " [0.91230474]\n",
      " [0.9287476 ]\n",
      " [0.95615237]\n",
      " [0.93422856]\n",
      " [0.91778569]\n",
      " [0.93422856]\n",
      " [0.93970951]\n",
      " [0.94519046]\n",
      " [0.94519046]\n",
      " [0.93970951]\n",
      " [0.94519046]\n",
      " [0.94244999]\n",
      " [0.95067142]\n",
      " [0.93970951]\n",
      " [0.95341189]\n",
      " [0.94519046]\n",
      " [0.95067142]\n",
      " [0.93970951]\n",
      " [0.94519046]\n",
      " [0.92326665]\n",
      " [0.93696903]\n",
      " [0.94793094]\n",
      " [0.93696903]\n",
      " [0.95615237]\n",
      " [0.95341189]\n",
      " [0.96711428]\n",
      " [0.9643738 ]\n",
      " [0.96985475]\n",
      " [0.9643738 ]\n",
      " [1.        ]\n",
      " [0.96711428]\n",
      " [0.95615237]]\n",
      "[[0.94244999]\n",
      " [0.93148808]\n",
      " [0.90682379]\n",
      " [0.91230474]\n",
      " [0.92052617]\n",
      " [0.93422856]\n",
      " [0.93422856]\n",
      " [0.92600713]\n",
      " [0.91230474]\n",
      " [0.92326665]\n",
      " [0.9287476 ]\n",
      " [0.92052617]\n",
      " [0.93148808]\n",
      " [0.92052617]\n",
      " [0.91230474]\n",
      " [0.92052617]\n",
      " [0.92326665]\n",
      " [0.9287476 ]\n",
      " [0.92052617]\n",
      " [0.91778569]\n",
      " [0.91778569]\n",
      " [0.91778569]\n",
      " [0.89586188]\n",
      " [0.88489997]\n",
      " [0.89038093]\n",
      " [0.90682379]\n",
      " [0.87667854]\n",
      " [0.87119759]\n",
      " [0.87667854]\n",
      " [0.86297616]\n",
      " [0.87393807]\n",
      " [0.8931214 ]\n",
      " [0.89038093]\n",
      " [0.8931214 ]\n",
      " [0.89038093]\n",
      " [0.8821595 ]\n",
      " [0.87941902]\n",
      " [0.90956426]\n",
      " [0.93422856]\n",
      " [0.93422856]\n",
      " [0.90956426]\n",
      " [0.91230474]\n",
      " [0.90682379]\n",
      " [0.93422856]\n",
      " [0.93696903]\n",
      " [0.95067142]\n",
      " [0.94793094]\n",
      " [0.95615237]\n",
      " [0.94793094]\n",
      " [0.95341189]\n",
      " [0.96163332]\n",
      " [0.95341189]\n",
      " [0.93422856]\n",
      " [0.93696903]\n",
      " [0.93970951]\n",
      " [0.93422856]\n",
      " [0.93148808]\n",
      " [0.93696903]\n",
      " [0.93148808]\n",
      " [0.94244999]\n",
      " [0.93970951]\n",
      " [0.92326665]\n",
      " [0.92600713]\n",
      " [0.90956426]\n",
      " [0.90134283]\n",
      " [0.90408331]\n",
      " [0.92052617]\n",
      " [0.92052617]\n",
      " [0.90682379]\n",
      " [0.91778569]\n",
      " [0.8931214 ]\n",
      " [0.8931214 ]\n",
      " [0.89038093]\n",
      " [0.89860236]\n",
      " [0.90134283]\n",
      " [0.91230474]\n",
      " [0.94793094]\n",
      " [0.93422856]\n",
      " [0.93148808]\n",
      " [0.94519046]\n",
      " [0.94793094]\n",
      " [0.93970951]\n",
      " [0.94519046]\n",
      " [0.94244999]\n",
      " [0.93696903]\n",
      " [0.93970951]\n",
      " [0.94519046]\n",
      " [0.94793094]\n",
      " [0.95615237]\n",
      " [0.95889285]\n",
      " [0.96711428]\n",
      " [0.96985475]\n",
      " [0.98081666]\n",
      " [0.98903809]\n",
      " [0.98355714]\n",
      " [0.97259523]\n",
      " [0.97259523]\n",
      " [0.95889285]\n",
      " [0.96711428]\n",
      " [0.96711428]\n",
      " [0.96711428]\n",
      " [0.95889285]\n",
      " [0.95889285]\n",
      " [0.94793094]\n",
      " [0.94519046]\n",
      " [0.94244999]\n",
      " [0.93422856]\n",
      " [0.94244999]\n",
      " [0.96711428]\n",
      " [0.96711428]\n",
      " [0.98081666]\n",
      " [0.96985475]\n",
      " [0.97259523]\n",
      " [0.98355714]\n",
      " [0.98355714]\n",
      " [0.99451905]\n",
      " [0.97259523]]\n"
     ]
    }
   ],
   "source": [
    "print(\"Print the 1st x_test and y_test data:\")\n",
    "print(x_test[0])\n",
    "print(normalized[training_len:])"
   ]
  },
  {
   "cell_type": "code",
   "execution_count": 14,
   "id": "42acb4a1",
   "metadata": {
    "colab": {
     "base_uri": "https://localhost:8080/"
    },
    "executionInfo": {
     "elapsed": 7,
     "status": "ok",
     "timestamp": 1686031609478,
     "user": {
      "displayName": "Jason",
      "userId": "13318429149571986193"
     },
     "user_tz": -420
    },
    "id": "42acb4a1",
    "outputId": "1e02ccbd-ae99-42a1-af88-75df91151dcb"
   },
   "outputs": [
    {
     "name": "stdout",
     "output_type": "stream",
     "text": [
      "Jumlah data x_test adalah sebanyak 117 data\n",
      "Jumlah data y_test adalah sebanyak 117 data\n"
     ]
    }
   ],
   "source": [
    "print(\"Jumlah data x_test adalah sebanyak {} data\".format(x_test.shape[0]))\n",
    "print(\"Jumlah data y_test adalah sebanyak {} data\".format(y_test.shape[0]))"
   ]
  },
  {
   "cell_type": "markdown",
   "id": "80b6f943",
   "metadata": {
    "id": "80b6f943"
   },
   "source": [
    "### Creating Model\n",
    "#### 1. Optimizer Adam"
   ]
  },
  {
   "cell_type": "code",
   "execution_count": 15,
   "id": "63a9d540",
   "metadata": {
    "executionInfo": {
     "elapsed": 2101,
     "status": "ok",
     "timestamp": 1686031611574,
     "user": {
      "displayName": "Jason",
      "userId": "13318429149571986193"
     },
     "user_tz": -420
    },
    "id": "63a9d540"
   },
   "outputs": [],
   "source": [
    "from keras.models import Sequential\n",
    "from keras.layers import Dense, LSTM\n",
    "\n",
    "model = Sequential()\n",
    "model.add(LSTM(128, return_sequences=True, input_shape= (x_train.shape[1], 1)))\n",
    "model.add(LSTM(64, return_sequences=False))\n",
    "model.add(Dense(32, activation='relu'))\n",
    "model.add(Dense(1, activation='sigmoid'))"
   ]
  },
  {
   "cell_type": "code",
   "execution_count": 16,
   "id": "57054bc0",
   "metadata": {
    "executionInfo": {
     "elapsed": 4,
     "status": "ok",
     "timestamp": 1686031611574,
     "user": {
      "displayName": "Jason",
      "userId": "13318429149571986193"
     },
     "user_tz": -420
    },
    "id": "57054bc0"
   },
   "outputs": [],
   "source": [
    "model.compile(optimizer='adam', loss='mean_absolute_error')"
   ]
  },
  {
   "cell_type": "code",
   "execution_count": 17,
   "id": "817e95a6",
   "metadata": {
    "colab": {
     "base_uri": "https://localhost:8080/"
    },
    "executionInfo": {
     "elapsed": 7813374,
     "status": "ok",
     "timestamp": 1686039424945,
     "user": {
      "displayName": "Jason",
      "userId": "13318429149571986193"
     },
     "user_tz": -420
    },
    "id": "817e95a6",
    "outputId": "0b48f5dc-f5b0-4c94-d722-a645471051f5",
    "scrolled": false
   },
   "outputs": [
    {
     "name": "stdout",
     "output_type": "stream",
     "text": [
      "Epoch 1/50\n",
      "4530/4530 [==============================] - 210s 44ms/step - loss: 0.0259\n",
      "Epoch 2/50\n",
      "4530/4530 [==============================] - 187s 41ms/step - loss: 0.0132\n",
      "Epoch 3/50\n",
      "4530/4530 [==============================] - 187s 41ms/step - loss: 0.0104\n",
      "Epoch 4/50\n",
      "4530/4530 [==============================] - 187s 41ms/step - loss: 0.0096\n",
      "Epoch 5/50\n",
      "4530/4530 [==============================] - 187s 41ms/step - loss: 0.0086\n",
      "Epoch 6/50\n",
      "4530/4530 [==============================] - 185s 41ms/step - loss: 0.0083\n",
      "Epoch 7/50\n",
      "4530/4530 [==============================] - 183s 40ms/step - loss: 0.0077\n",
      "Epoch 8/50\n",
      "4530/4530 [==============================] - 187s 41ms/step - loss: 0.0075\n",
      "Epoch 9/50\n",
      "4530/4530 [==============================] - 186s 41ms/step - loss: 0.0073\n",
      "Epoch 10/50\n",
      "4530/4530 [==============================] - 187s 41ms/step - loss: 0.0072\n",
      "Epoch 11/50\n",
      "4530/4530 [==============================] - 187s 41ms/step - loss: 0.0069\n",
      "Epoch 12/50\n",
      "4530/4530 [==============================] - 187s 41ms/step - loss: 0.0067\n",
      "Epoch 13/50\n",
      "4530/4530 [==============================] - 183s 40ms/step - loss: 0.0065\n",
      "Epoch 14/50\n",
      "4530/4530 [==============================] - 188s 41ms/step - loss: 0.0064\n",
      "Epoch 15/50\n",
      "4530/4530 [==============================] - 187s 41ms/step - loss: 0.0062\n",
      "Epoch 16/50\n",
      "4530/4530 [==============================] - 185s 41ms/step - loss: 0.0062\n",
      "Epoch 17/50\n",
      "4530/4530 [==============================] - 186s 41ms/step - loss: 0.0061\n",
      "Epoch 18/50\n",
      "4530/4530 [==============================] - 186s 41ms/step - loss: 0.0059\n",
      "Epoch 19/50\n",
      "4530/4530 [==============================] - 185s 41ms/step - loss: 0.0059\n",
      "Epoch 20/50\n",
      "4530/4530 [==============================] - 187s 41ms/step - loss: 0.0061\n",
      "Epoch 21/50\n",
      "4530/4530 [==============================] - 186s 41ms/step - loss: 0.0057\n",
      "Epoch 22/50\n",
      "4530/4530 [==============================] - 185s 41ms/step - loss: 0.0059\n",
      "Epoch 23/50\n",
      "4530/4530 [==============================] - 186s 41ms/step - loss: 0.0058\n",
      "Epoch 24/50\n",
      "4530/4530 [==============================] - 186s 41ms/step - loss: 0.0057\n",
      "Epoch 25/50\n",
      "4530/4530 [==============================] - 186s 41ms/step - loss: 0.0056\n",
      "Epoch 26/50\n",
      "4530/4530 [==============================] - 186s 41ms/step - loss: 0.0058\n",
      "Epoch 27/50\n",
      "4530/4530 [==============================] - 186s 41ms/step - loss: 0.0055\n",
      "Epoch 28/50\n",
      "4530/4530 [==============================] - 184s 41ms/step - loss: 0.0056\n",
      "Epoch 29/50\n",
      "4530/4530 [==============================] - 184s 41ms/step - loss: 0.0055\n",
      "Epoch 30/50\n",
      "4530/4530 [==============================] - 184s 41ms/step - loss: 0.0055\n",
      "Epoch 31/50\n",
      "4530/4530 [==============================] - 185s 41ms/step - loss: 0.0055\n",
      "Epoch 32/50\n",
      "4530/4530 [==============================] - 187s 41ms/step - loss: 0.0056\n",
      "Epoch 33/50\n",
      "4530/4530 [==============================] - 186s 41ms/step - loss: 0.0054\n",
      "Epoch 34/50\n",
      "4530/4530 [==============================] - 184s 41ms/step - loss: 0.0054\n",
      "Epoch 35/50\n",
      "4530/4530 [==============================] - 186s 41ms/step - loss: 0.0054\n",
      "Epoch 36/50\n",
      "4530/4530 [==============================] - 187s 41ms/step - loss: 0.0053\n",
      "Epoch 37/50\n",
      "4530/4530 [==============================] - 184s 41ms/step - loss: 0.0053\n",
      "Epoch 38/50\n",
      "4530/4530 [==============================] - 182s 40ms/step - loss: 0.0055\n",
      "Epoch 39/50\n",
      "4530/4530 [==============================] - 181s 40ms/step - loss: 0.0055\n",
      "Epoch 40/50\n",
      "4530/4530 [==============================] - 184s 41ms/step - loss: 0.0053\n",
      "Epoch 41/50\n",
      "4530/4530 [==============================] - 186s 41ms/step - loss: 0.0053\n",
      "Epoch 42/50\n",
      "4530/4530 [==============================] - 186s 41ms/step - loss: 0.0054\n"
     ]
    },
    {
     "data": {
      "text/plain": [
       "<keras.callbacks.History at 0x7f18748d2650>"
      ]
     },
     "execution_count": 17,
     "metadata": {},
     "output_type": "execute_result"
    }
   ],
   "source": [
    "from keras import callbacks\n",
    "earlystopping = callbacks.EarlyStopping(monitor=\"loss\", mode=\"min\", patience=5, restore_best_weights=True)\n",
    "model.fit(x_train, y_train, batch_size=1, epochs=50, callbacks=[earlystopping])"
   ]
  },
  {
   "cell_type": "markdown",
   "id": "48b2572c",
   "metadata": {
    "id": "48b2572c"
   },
   "source": [
    "### Predicting"
   ]
  },
  {
   "cell_type": "code",
   "execution_count": 18,
   "id": "b0a9bf77",
   "metadata": {
    "colab": {
     "base_uri": "https://localhost:8080/"
    },
    "executionInfo": {
     "elapsed": 20935,
     "status": "ok",
     "timestamp": 1686039445878,
     "user": {
      "displayName": "Jason",
      "userId": "13318429149571986193"
     },
     "user_tz": -420
    },
    "id": "b0a9bf77",
    "outputId": "b6df3b98-f061-42c3-9a2b-fc3d97dd2ed4",
    "scrolled": true
   },
   "outputs": [
    {
     "name": "stdout",
     "output_type": "stream",
     "text": [
      "4/4 [==============================] - 2s 64ms/step\n"
     ]
    }
   ],
   "source": [
    "predictions = model.predict(x_test)\n",
    "predictions = minmax.inverse_transform(predictions)"
   ]
  },
  {
   "cell_type": "markdown",
   "id": "ee1bd3a2",
   "metadata": {
    "id": "ee1bd3a2"
   },
   "source": [
    "### Evaluation"
   ]
  },
  {
   "cell_type": "code",
   "execution_count": 19,
   "id": "9fd27362",
   "metadata": {
    "colab": {
     "base_uri": "https://localhost:8080/"
    },
    "executionInfo": {
     "elapsed": 913,
     "status": "ok",
     "timestamp": 1686039446788,
     "user": {
      "displayName": "Jason",
      "userId": "13318429149571986193"
     },
     "user_tz": -420
    },
    "id": "9fd27362",
    "outputId": "0ce60419-f6e5-4444-ca69-41615397a657",
    "scrolled": true
   },
   "outputs": [
    {
     "data": {
      "text/plain": [
       "102.12224559294872"
      ]
     },
     "execution_count": 19,
     "metadata": {},
     "output_type": "execute_result"
    }
   ],
   "source": [
    "from sklearn.metrics import mean_absolute_error\n",
    "mean_absolute_error(y_test, predictions)"
   ]
  },
  {
   "cell_type": "code",
   "execution_count": 20,
   "id": "c75057b8",
   "metadata": {
    "colab": {
     "base_uri": "https://localhost:8080/"
    },
    "executionInfo": {
     "elapsed": 12,
     "status": "ok",
     "timestamp": 1686039446788,
     "user": {
      "displayName": "Jason",
      "userId": "13318429149571986193"
     },
     "user_tz": -420
    },
    "id": "c75057b8",
    "outputId": "c7cda454-9332-416c-ace8-e054001e29b6"
   },
   "outputs": [
    {
     "data": {
      "text/plain": [
       "129.1801769280871"
      ]
     },
     "execution_count": 20,
     "metadata": {},
     "output_type": "execute_result"
    }
   ],
   "source": [
    "from sklearn.metrics import mean_squared_error, r2_score\n",
    "mean_squared_error(y_test, predictions, squared=False)"
   ]
  },
  {
   "cell_type": "code",
   "execution_count": 21,
   "id": "3308c140",
   "metadata": {
    "colab": {
     "base_uri": "https://localhost:8080/"
    },
    "executionInfo": {
     "elapsed": 8,
     "status": "ok",
     "timestamp": 1686039446788,
     "user": {
      "displayName": "Jason",
      "userId": "13318429149571986193"
     },
     "user_tz": -420
    },
    "id": "3308c140",
    "outputId": "39c90427-2ee0-40a4-a0be-6e889c2ed135"
   },
   "outputs": [
    {
     "data": {
      "text/plain": [
       "0.7596365272404768"
      ]
     },
     "execution_count": 21,
     "metadata": {},
     "output_type": "execute_result"
    }
   ],
   "source": [
    "r2_score(y_test, predictions)"
   ]
  },
  {
   "cell_type": "markdown",
   "id": "c3f48a7d",
   "metadata": {
    "id": "c3f48a7d"
   },
   "source": [
    "### Visualizing"
   ]
  },
  {
   "cell_type": "code",
   "execution_count": 22,
   "id": "4e7a5a7b",
   "metadata": {
    "executionInfo": {
     "elapsed": 7,
     "status": "ok",
     "timestamp": 1686039446788,
     "user": {
      "displayName": "Jason",
      "userId": "13318429149571986193"
     },
     "user_tz": -420
    },
    "id": "4e7a5a7b"
   },
   "outputs": [],
   "source": [
    "train = close[:training_len]\n",
    "valid = close[training_len:]\n",
    "valid = pd.DataFrame(valid)\n",
    "valid = valid.rename(columns={0 : 'Close'})\n",
    "valid['Predictions'] = predictions.reshape(-1, 1)"
   ]
  },
  {
   "cell_type": "code",
   "execution_count": 23,
   "id": "076f4946",
   "metadata": {
    "colab": {
     "base_uri": "https://localhost:8080/",
     "height": 369
    },
    "executionInfo": {
     "elapsed": 8,
     "status": "ok",
     "timestamp": 1686039446789,
     "user": {
      "displayName": "Jason",
      "userId": "13318429149571986193"
     },
     "user_tz": -420
    },
    "id": "076f4946",
    "outputId": "ee4ac18b-eb1e-4ea6-a19a-911c11a96db1"
   },
   "outputs": [
    {
     "data": {
      "image/png": "[encoded data removed]",
      "text/plain": [
       "<Figure size 1600x600 with 1 Axes>"
      ]
     },
     "metadata": {},
     "output_type": "display_data"
    }
   ],
   "source": [
    "plt.figure(figsize=(16,6))\n",
    "plt.title('Model')\n",
    "plt.xlabel('Date', fontsize=18)\n",
    "plt.ylabel('Close Price (Rupiah)', fontsize=18)\n",
    "plt.plot(train)\n",
    "plt.plot(valid[['Close', 'Predictions']])\n",
    "plt.legend(['Train', 'Val', 'Predictions'], loc='upper left')\n",
    "plt.show()"
   ]
  },
  {
   "cell_type": "markdown",
   "id": "3a1744d4",
   "metadata": {
    "id": "3a1744d4"
   },
   "source": [
    "##### 2. Optimizer SGD"
   ]
  },
  {
   "cell_type": "code",
   "execution_count": 24,
   "id": "84654c6d",
   "metadata": {
    "executionInfo": {
     "elapsed": 555,
     "status": "ok",
     "timestamp": 1686039447339,
     "user": {
      "displayName": "Jason",
      "userId": "13318429149571986193"
     },
     "user_tz": -420
    },
    "id": "84654c6d"
   },
   "outputs": [],
   "source": [
    "from keras.models import Sequential\n",
    "from keras.layers import Dense, LSTM\n",
    "\n",
    "model = Sequential()\n",
    "model.add(LSTM(128, return_sequences=True, input_shape= (x_train.shape[1], 1)))\n",
    "model.add(LSTM(64, return_sequences=False))\n",
    "model.add(Dense(32, activation='relu'))\n",
    "model.add(Dense(1, activation='sigmoid'))"
   ]
  },
  {
   "cell_type": "code",
   "execution_count": 25,
   "id": "e05207e5",
   "metadata": {
    "executionInfo": {
     "elapsed": 2,
     "status": "ok",
     "timestamp": 1686039447339,
     "user": {
      "displayName": "Jason",
      "userId": "13318429149571986193"
     },
     "user_tz": -420
    },
    "id": "e05207e5"
   },
   "outputs": [],
   "source": [
    "model.compile(optimizer='SGD', loss='mean_absolute_error')"
   ]
  },
  {
   "cell_type": "code",
   "execution_count": 26,
   "id": "a2e2e082",
   "metadata": {
    "colab": {
     "base_uri": "https://localhost:8080/"
    },
    "executionInfo": {
     "elapsed": 9204891,
     "status": "ok",
     "timestamp": 1686048652228,
     "user": {
      "displayName": "Jason",
      "userId": "13318429149571986193"
     },
     "user_tz": -420
    },
    "id": "a2e2e082",
    "outputId": "4cc503fa-3194-4717-a929-c6ce436ca30a",
    "scrolled": false
   },
   "outputs": [
    {
     "name": "stdout",
     "output_type": "stream",
     "text": [
      "Epoch 1/50\n",
      "4530/4530 [==============================] - 184s 40ms/step - loss: 0.0442\n",
      "Epoch 2/50\n",
      "4530/4530 [==============================] - 197s 43ms/step - loss: 0.0179\n",
      "Epoch 3/50\n",
      "4530/4530 [==============================] - 184s 41ms/step - loss: 0.0154\n",
      "Epoch 4/50\n",
      "4530/4530 [==============================] - 182s 40ms/step - loss: 0.0141\n",
      "Epoch 5/50\n",
      "4530/4530 [==============================] - 186s 41ms/step - loss: 0.0132\n",
      "Epoch 6/50\n",
      "4530/4530 [==============================] - 183s 40ms/step - loss: 0.0124\n",
      "Epoch 7/50\n",
      "4530/4530 [==============================] - 184s 41ms/step - loss: 0.0118\n",
      "Epoch 8/50\n",
      "4530/4530 [==============================] - 184s 41ms/step - loss: 0.0115\n",
      "Epoch 9/50\n",
      "4530/4530 [==============================] - 183s 40ms/step - loss: 0.0109\n",
      "Epoch 10/50\n",
      "4530/4530 [==============================] - 184s 41ms/step - loss: 0.0105\n",
      "Epoch 11/50\n",
      "4530/4530 [==============================] - 183s 40ms/step - loss: 0.0103\n",
      "Epoch 12/50\n",
      "4530/4530 [==============================] - 182s 40ms/step - loss: 0.0100\n",
      "Epoch 13/50\n",
      "4530/4530 [==============================] - 184s 41ms/step - loss: 0.0097\n",
      "Epoch 14/50\n",
      "4530/4530 [==============================] - 182s 40ms/step - loss: 0.0094\n",
      "Epoch 15/50\n",
      "4530/4530 [==============================] - 182s 40ms/step - loss: 0.0093\n",
      "Epoch 16/50\n",
      "4530/4530 [==============================] - 183s 40ms/step - loss: 0.0091\n",
      "Epoch 17/50\n",
      "4530/4530 [==============================] - 181s 40ms/step - loss: 0.0089\n",
      "Epoch 18/50\n",
      "4530/4530 [==============================] - 183s 41ms/step - loss: 0.0088\n",
      "Epoch 19/50\n",
      "4530/4530 [==============================] - 183s 40ms/step - loss: 0.0086\n",
      "Epoch 20/50\n",
      "4530/4530 [==============================] - 182s 40ms/step - loss: 0.0085\n",
      "Epoch 21/50\n",
      "4530/4530 [==============================] - 183s 40ms/step - loss: 0.0083\n",
      "Epoch 22/50\n",
      "4530/4530 [==============================] - 182s 40ms/step - loss: 0.0083\n",
      "Epoch 23/50\n",
      "4530/4530 [==============================] - 183s 40ms/step - loss: 0.0081\n",
      "Epoch 24/50\n",
      "4530/4530 [==============================] - 182s 40ms/step - loss: 0.0081\n",
      "Epoch 25/50\n",
      "4530/4530 [==============================] - 180s 40ms/step - loss: 0.0080\n",
      "Epoch 26/50\n",
      "4530/4530 [==============================] - 182s 40ms/step - loss: 0.0078\n",
      "Epoch 27/50\n",
      "4530/4530 [==============================] - 183s 40ms/step - loss: 0.0078\n",
      "Epoch 28/50\n",
      "4530/4530 [==============================] - 182s 40ms/step - loss: 0.0077\n",
      "Epoch 29/50\n",
      "4530/4530 [==============================] - 183s 40ms/step - loss: 0.0076\n",
      "Epoch 30/50\n",
      "4530/4530 [==============================] - 181s 40ms/step - loss: 0.0075\n",
      "Epoch 31/50\n",
      "4530/4530 [==============================] - 181s 40ms/step - loss: 0.0075\n",
      "Epoch 32/50\n",
      "4530/4530 [==============================] - 181s 40ms/step - loss: 0.0074\n",
      "Epoch 33/50\n",
      "4530/4530 [==============================] - 181s 40ms/step - loss: 0.0074\n",
      "Epoch 34/50\n",
      "4530/4530 [==============================] - 183s 40ms/step - loss: 0.0074\n",
      "Epoch 35/50\n",
      "4530/4530 [==============================] - 182s 40ms/step - loss: 0.0072\n",
      "Epoch 36/50\n",
      "4530/4530 [==============================] - 182s 40ms/step - loss: 0.0072\n",
      "Epoch 37/50\n",
      "4530/4530 [==============================] - 182s 40ms/step - loss: 0.0071\n",
      "Epoch 38/50\n",
      "4530/4530 [==============================] - 181s 40ms/step - loss: 0.0070\n",
      "Epoch 39/50\n",
      "4530/4530 [==============================] - 183s 40ms/step - loss: 0.0070\n",
      "Epoch 40/50\n",
      "4530/4530 [==============================] - 183s 40ms/step - loss: 0.0070\n",
      "Epoch 41/50\n",
      "4530/4530 [==============================] - 181s 40ms/step - loss: 0.0069\n",
      "Epoch 42/50\n",
      "4530/4530 [==============================] - 183s 40ms/step - loss: 0.0068\n",
      "Epoch 43/50\n",
      "4530/4530 [==============================] - 181s 40ms/step - loss: 0.0067\n",
      "Epoch 44/50\n",
      "4530/4530 [==============================] - 184s 41ms/step - loss: 0.0068\n",
      "Epoch 45/50\n",
      "4530/4530 [==============================] - 184s 41ms/step - loss: 0.0067\n",
      "Epoch 46/50\n",
      "4530/4530 [==============================] - 184s 41ms/step - loss: 0.0067\n",
      "Epoch 47/50\n",
      "4530/4530 [==============================] - 183s 40ms/step - loss: 0.0067\n",
      "Epoch 48/50\n",
      "4530/4530 [==============================] - 183s 40ms/step - loss: 0.0066\n",
      "Epoch 49/50\n",
      "4530/4530 [==============================] - 185s 41ms/step - loss: 0.0065\n",
      "Epoch 50/50\n",
      "4530/4530 [==============================] - 185s 41ms/step - loss: 0.0065\n"
     ]
    },
    {
     "data": {
      "text/plain": [
       "<keras.callbacks.History at 0x7f1867829c00>"
      ]
     },
     "execution_count": 26,
     "metadata": {},
     "output_type": "execute_result"
    }
   ],
   "source": [
    "from keras import callbacks\n",
    "earlystopping = callbacks.EarlyStopping(monitor=\"loss\", mode=\"min\", patience=5, restore_best_weights=True)\n",
    "model.fit(x_train, y_train, batch_size=1, epochs=50, callbacks=[earlystopping])"
   ]
  },
  {
   "cell_type": "markdown",
   "id": "40de6fa6",
   "metadata": {
    "id": "40de6fa6"
   },
   "source": [
    "### Predicting"
   ]
  },
  {
   "cell_type": "code",
   "execution_count": 27,
   "id": "bd264cde",
   "metadata": {
    "colab": {
     "base_uri": "https://localhost:8080/"
    },
    "executionInfo": {
     "elapsed": 904,
     "status": "ok",
     "timestamp": 1686048653130,
     "user": {
      "displayName": "Jason",
      "userId": "13318429149571986193"
     },
     "user_tz": -420
    },
    "id": "bd264cde",
    "outputId": "2fb0dcc0-7359-462b-9824-6b80207d4992"
   },
   "outputs": [
    {
     "name": "stdout",
     "output_type": "stream",
     "text": [
      "4/4 [==============================] - 1s 40ms/step\n"
     ]
    }
   ],
   "source": [
    "predictions = model.predict(x_test)\n",
    "predictions = minmax.inverse_transform(predictions)"
   ]
  },
  {
   "cell_type": "markdown",
   "id": "042dcac2",
   "metadata": {
    "id": "042dcac2"
   },
   "source": [
    "### Evaluation"
   ]
  },
  {
   "cell_type": "code",
   "execution_count": 28,
   "id": "f783144f",
   "metadata": {
    "colab": {
     "base_uri": "https://localhost:8080/"
    },
    "executionInfo": {
     "elapsed": 9,
     "status": "ok",
     "timestamp": 1686048653130,
     "user": {
      "displayName": "Jason",
      "userId": "13318429149571986193"
     },
     "user_tz": -420
    },
    "id": "f783144f",
    "outputId": "a1997b26-08fc-4fbe-930e-9680e2b96d24"
   },
   "outputs": [
    {
     "data": {
      "text/plain": [
       "162.27727697649573"
      ]
     },
     "execution_count": 28,
     "metadata": {},
     "output_type": "execute_result"
    }
   ],
   "source": [
    "mean_absolute_error(y_test, predictions)"
   ]
  },
  {
   "cell_type": "code",
   "execution_count": 29,
   "id": "0a3d4c21",
   "metadata": {
    "colab": {
     "base_uri": "https://localhost:8080/"
    },
    "executionInfo": {
     "elapsed": 7,
     "status": "ok",
     "timestamp": 1686048653130,
     "user": {
      "displayName": "Jason",
      "userId": "13318429149571986193"
     },
     "user_tz": -420
    },
    "id": "0a3d4c21",
    "outputId": "63c2c919-2684-4ff4-c05d-fdd929d04796"
   },
   "outputs": [
    {
     "data": {
      "text/plain": [
       "196.67852690754953"
      ]
     },
     "execution_count": 29,
     "metadata": {},
     "output_type": "execute_result"
    }
   ],
   "source": [
    "mean_squared_error(y_test, predictions, squared=False)"
   ]
  },
  {
   "cell_type": "code",
   "execution_count": 30,
   "id": "f7fd79fb",
   "metadata": {
    "colab": {
     "base_uri": "https://localhost:8080/"
    },
    "executionInfo": {
     "elapsed": 4,
     "status": "ok",
     "timestamp": 1686048653130,
     "user": {
      "displayName": "Jason",
      "userId": "13318429149571986193"
     },
     "user_tz": -420
    },
    "id": "f7fd79fb",
    "outputId": "cfe8ddfa-1699-4b00-f14c-14e817a3a756"
   },
   "outputs": [
    {
     "data": {
      "text/plain": [
       "0.44282629331057466"
      ]
     },
     "execution_count": 30,
     "metadata": {},
     "output_type": "execute_result"
    }
   ],
   "source": [
    "r2_score(y_test, predictions)"
   ]
  },
  {
   "cell_type": "markdown",
   "id": "685a8057",
   "metadata": {
    "id": "685a8057"
   },
   "source": [
    "### Visualizing"
   ]
  },
  {
   "cell_type": "code",
   "execution_count": 31,
   "id": "2f6eb1ee",
   "metadata": {
    "executionInfo": {
     "elapsed": 2,
     "status": "ok",
     "timestamp": 1686048653130,
     "user": {
      "displayName": "Jason",
      "userId": "13318429149571986193"
     },
     "user_tz": -420
    },
    "id": "2f6eb1ee"
   },
   "outputs": [],
   "source": [
    "train = close[:training_len]\n",
    "valid = close[training_len:]\n",
    "valid = pd.DataFrame(valid)\n",
    "valid = valid.rename(columns={0 : 'Close'})\n",
    "valid['Predictions'] = predictions.reshape(-1, 1)"
   ]
  },
  {
   "cell_type": "code",
   "execution_count": 32,
   "id": "c29879ab",
   "metadata": {
    "colab": {
     "base_uri": "https://localhost:8080/",
     "height": 369
    },
    "executionInfo": {
     "elapsed": 835,
     "status": "ok",
     "timestamp": 1686048653963,
     "user": {
      "displayName": "Jason",
      "userId": "13318429149571986193"
     },
     "user_tz": -420
    },
    "id": "c29879ab",
    "outputId": "8a8051f7-ccb9-418b-c269-fe3a8a911aac",
    "scrolled": true
   },
   "outputs": [
    {
     "data": {
      "image/png": "[encoded data removed]",
      "text/plain": [
       "<Figure size 1600x600 with 1 Axes>"
      ]
     },
     "metadata": {},
     "output_type": "display_data"
    }
   ],
   "source": [
    "plt.figure(figsize=(16,6))\n",
    "plt.title('Model')\n",
    "plt.xlabel('Date', fontsize=18)\n",
    "plt.ylabel('Close Price (Rupiah)', fontsize=18)\n",
    "plt.plot(train)\n",
    "plt.plot(valid[['Close', 'Predictions']])\n",
    "plt.legend(['Train', 'Val', 'Predictions'], loc='upper left')\n",
    "plt.show()"
   ]
  },
  {
   "cell_type": "code",
   "execution_count": 1,
   "id": "7c3f385a",
   "metadata": {},
   "outputs": [
    {
     "name": "stderr",
     "output_type": "stream",
     "text": [
      "[NbConvertApp] Converting notebook ./00000053897_Jacintha Cordelie_SourceCode_UAS_IF540L.ipynb to html\n",
      "[NbConvertApp] Writing 803695 bytes to 00000053897_Jacintha Cordelie_SourceCode_UAS_IF540L.html\n"
     ]
    }
   ],
   "source": [
    "!jupyter nbconvert --to html \"./00000053897_Jacintha Cordelie_SourceCode_UAS_IF540L.ipynb\" --output-dir=\"./\""
   ]
  }
 ],
 "metadata": {
  "colab": {
   "provenance": []
  },
  "kernelspec": {
   "display_name": "Python 3 (ipykernel)",
   "language": "python",
   "name": "python3"
  },
  "language_info": {
   "codemirror_mode": {
    "name": "ipython",
    "version": 3
   },
   "file_extension": ".py",
   "mimetype": "text/x-python",
   "name": "python",
   "nbconvert_exporter": "python",
   "pygments_lexer": "ipython3",
   "version": "3.10.4"
  }
 },
 "nbformat": 4,
 "nbformat_minor": 5
}
